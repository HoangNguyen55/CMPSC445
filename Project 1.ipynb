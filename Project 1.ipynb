{
 "cells": [
  {
   "cell_type": "markdown",
   "id": "b9bfd705-4b5e-4ed9-9071-fb1f5ed12949",
   "metadata": {},
   "source": [
    "# <b>Project Title: Project-1</b>\n",
    "\n",
    "### Student name and department: Hoang Nguyen, CMPSC 455-001 \n",
    "\n",
    "### Instructor name and department: Vinayak Elangovan, CMPSC 455-001 \n",
    "\n",
    "### Introduction: \n",
    "- Briefly explain KNN \n",
    "  - K-nearest neighbors, also known as KNN, is a supervised machine learning algorithm, it is a classification algorithm. It works by calculating the expected value of y value using y = mx + b function, where m and b are calculated by training data.\n",
    "- Briefly explain the dataset\n",
    "  - The dataset is called Iris. It contains 3 classes of 50 instances each, where each class refers to a type of iris plant. "
   ]
  },
  {
   "cell_type": "markdown",
   "id": "9dfca81f-5fd8-45b1-8f10-64315a8eb71d",
   "metadata": {},
   "source": [
    "# <b>Design and Implementation:</b> "
   ]
  },
  {
   "cell_type": "code",
   "execution_count": null,
   "id": "587ca3e2-0afd-40c7-a5d8-b0c9dd59ccd4",
   "metadata": {},
   "outputs": [],
   "source": [
    "!pip install pandas seaborn numpy matplotlib\n",
    "import pandas as pd\n",
    "import seaborn as sns\n",
    "import numpy as np\n",
    "import matplotlib.pyplot as plt\n",
    "%matplotlib inline"
   ]
  },
  {
   "cell_type": "code",
   "execution_count": null,
   "id": "c1034f35-fc94-4229-ac12-e6585e53c213",
   "metadata": {},
   "outputs": [],
   "source": [
    "# give columns name to the dataset\n",
    "cols = ['sepal length', 'sepal width', 'petal length', 'petal width', 'class']\n",
    "df = pd.read_csv('iris-dataset/iris.data', names=cols)"
   ]
  },
  {
   "cell_type": "code",
   "execution_count": null,
   "id": "f338336d-0f2f-4019-86f5-f557b2139b3f",
   "metadata": {},
   "outputs": [],
   "source": [
    "# print data sample\n",
    "df.head()"
   ]
  },
  {
   "cell_type": "code",
   "execution_count": null,
   "id": "050bff46-fa8d-4b9e-9833-d551b11c3a30",
   "metadata": {},
   "outputs": [],
   "source": [
    "sns.boxplot(df)\n",
    "# there is a lot of variations in petal lengths"
   ]
  },
  {
   "cell_type": "code",
   "execution_count": null,
   "id": "842872c4-367c-4101-8e5d-89417680a6fc",
   "metadata": {},
   "outputs": [],
   "source": [
    "bp = sns.barplot(df, x = 'sepal length', y='petal length')\n",
    "bp.tick_params(\"x\", labelrotation=90)\n",
    "# the sepal length seem to be correlated to petal length"
   ]
  },
  {
   "cell_type": "code",
   "execution_count": null,
   "id": "077d961a-0ba6-4cac-a4ed-1ec20ac11607",
   "metadata": {},
   "outputs": [],
   "source": [
    "# distplot is depricated, https://gist.github.com/mwaskom/de44147ed2974457ad6372750bbe5751check https://gist.github.com/mwaskom/de44147ed2974457ad6372750bbe5751\n",
    "sns.histplot(df, kde=True,\n",
    "    stat=\"density\", kde_kws=dict(cut=3),\n",
    "    alpha=.4, edgecolor=(1, 1, 1, .4),)\n",
    "# most of the sepal width is about 3\n",
    "# petal width and sepal length seem to be concentrate in 1 and 6 respectively"
   ]
  },
  {
   "cell_type": "code",
   "execution_count": null,
   "id": "0fe82355-eda2-4177-b53a-ad1368564cd0",
   "metadata": {},
   "outputs": [],
   "source": [
    "sns.clustermap(df.corr(numeric_only=True), figsize=(5, 5))\n",
    "# everything except sepal width are correlate to eachother"
   ]
  },
  {
   "cell_type": "code",
   "execution_count": null,
   "id": "a6836fc4-ba62-4800-8894-c9bf8e94adca",
   "metadata": {},
   "outputs": [],
   "source": [
    "sns.pairplot(df, height=1.4)\n",
    "# pair plot reinforce what clustermap shows"
   ]
  },
  {
   "cell_type": "markdown",
   "id": "ac294547-37af-4c77-a469-9105c01591c1",
   "metadata": {},
   "source": [
    "## Prepossessing Data"
   ]
  },
  {
   "cell_type": "code",
   "execution_count": null,
   "id": "2bb317f2-5b1a-4b09-9d40-d34546aebc45",
   "metadata": {},
   "outputs": [],
   "source": [
    "from sklearn.preprocessing import StandardScaler\n",
    "# create standardscaler class to normalize data\n",
    "scalar = StandardScaler()\n",
    "scalar.fit(df.drop('class', axis=1))\n",
    "scaled_features = scalar.transform(df.drop('class', axis=1))"
   ]
  },
  {
   "cell_type": "code",
   "execution_count": null,
   "id": "eb7b3706-6c4f-49d4-9383-06081b315ce1",
   "metadata": {},
   "outputs": [],
   "source": [
    "# create a new dataframe with the scaled features and don't include the last column\n",
    "# which is class\n",
    "scaled_df = pd.DataFrame(scaled_features, columns=df.columns[:-1])"
   ]
  },
  {
   "cell_type": "code",
   "execution_count": null,
   "id": "8dfbda26-a5b3-4b24-b186-70dd2853b591",
   "metadata": {},
   "outputs": [],
   "source": [
    "scaled_df"
   ]
  },
  {
   "cell_type": "markdown",
   "id": "567eeed0-db92-426c-8811-9540f99a5dd3",
   "metadata": {},
   "source": [
    "## Train Test Split Data"
   ]
  },
  {
   "cell_type": "code",
   "execution_count": null,
   "id": "cec88772-e7a9-4255-9e34-2c7efc742ff9",
   "metadata": {},
   "outputs": [],
   "source": [
    "from sklearn.model_selection import train_test_split"
   ]
  },
  {
   "cell_type": "code",
   "execution_count": null,
   "id": "94176faf-88a2-409d-9c70-edbccb09b7ee",
   "metadata": {},
   "outputs": [],
   "source": [
    "# split train and test data 70:30\n",
    "x_train, x_test, y_train, y_test = train_test_split(\n",
    "    scaled_df, df['class'], test_size=0.30, random_state=42)"
   ]
  },
  {
   "cell_type": "markdown",
   "id": "addf087d-c555-4c09-9b66-f63abc109811",
   "metadata": {},
   "source": [
    "## KNN"
   ]
  },
  {
   "cell_type": "code",
   "execution_count": null,
   "id": "f839bb0d-e880-44e6-aeb4-ee6c4294ef99",
   "metadata": {},
   "outputs": [],
   "source": [
    "from sklearn.neighbors import KNeighborsClassifier"
   ]
  },
  {
   "cell_type": "code",
   "execution_count": null,
   "id": "bcbbe4ac-55fd-46f9-a25a-51a87c3ad6f2",
   "metadata": {},
   "outputs": [],
   "source": [
    "# train knn with 40 neighbors\n",
    "knn = KNeighborsClassifier(n_neighbors=40)\n",
    "knn.fit(x_train, y_train)\n",
    "prediction = knn.predict(x_test)"
   ]
  },
  {
   "cell_type": "markdown",
   "id": "8fa4da5b-0e37-4cd3-96aa-c5ae01410748",
   "metadata": {},
   "source": [
    "## Evaluation"
   ]
  },
  {
   "cell_type": "code",
   "execution_count": null,
   "id": "10f53717-8dcf-4a92-9285-34ee178b796b",
   "metadata": {},
   "outputs": [],
   "source": [
    "from sklearn.metrics import classification_report, confusion_matrix\n",
    "# compare actual result with predictions\n",
    "print(confusion_matrix(y_test, prediction))\n",
    "print(classification_report(y_test, prediction))"
   ]
  },
  {
   "cell_type": "code",
   "execution_count": null,
   "id": "7c60e3da-17be-40f4-99ab-50186c5fcbfd",
   "metadata": {},
   "outputs": [],
   "source": [
    "# finding the best neigbors value by looping through 1-40 then train and predict with knn\n",
    "error_rate = []\n",
    "for i in range(1, 45):\n",
    "    knn = KNeighborsClassifier(n_neighbors=i)\n",
    "    knn.fit(x_train, y_train)\n",
    "    predict_i = knn.predict(x_test)\n",
    "    error_rate.append(np.mean(predict_i != y_test))"
   ]
  },
  {
   "cell_type": "code",
   "execution_count": null,
   "id": "22665fcc-b8d0-42b9-b3c0-c55199168341",
   "metadata": {
    "jupyter": {
     "source_hidden": true
    }
   },
   "outputs": [],
   "source": [
    "plt.figure(figsize=(10,6))\n",
    "plt.plot(range(1,45), error_rate, color='blue', linestyle='dashed', marker='o')\n",
    "plt.title('Error Rate vs KNN values')\n",
    "plt.xlabel('K Value')\n",
    "plt.ylabel('Error rate')"
   ]
  },
  {
   "cell_type": "markdown",
   "id": "23813248-536f-4145-81b0-0646a62d4149",
   "metadata": {},
   "source": [
    "## Prepossessing Data"
   ]
  },
  {
   "cell_type": "code",
   "execution_count": null,
   "id": "01827b52-14d3-4b2f-a218-127bbc88432c",
   "metadata": {},
   "outputs": [],
   "source": [
    "from sklearn.preprocessing import StandardScaler\n",
    "# create standardscaler class to normalize data\n",
    "scalar = StandardScaler()\n",
    "scalar.fit(df.drop(['class', 'petal width', 'petal length'], axis=1))\n",
    "scaled_features = scalar.transform(df.drop(['class', 'petal width', 'petal length'], axis=1))"
   ]
  },
  {
   "cell_type": "code",
   "execution_count": null,
   "id": "4209dedb-0ba2-498e-ac45-869f681e49d6",
   "metadata": {},
   "outputs": [],
   "source": [
    "# create a new dataframe with the scaled features and don't include the last 3 column\n",
    "# which is class, petal width/length\n",
    "scaled_df = pd.DataFrame(scaled_features, columns=df.columns[:-3])"
   ]
  },
  {
   "cell_type": "code",
   "execution_count": null,
   "id": "9ee24536-5c60-490b-87a4-84accf745c1e",
   "metadata": {},
   "outputs": [],
   "source": [
    "scaled_df"
   ]
  },
  {
   "cell_type": "markdown",
   "id": "15ed3406-deca-42c4-a4b4-d744187d2ad1",
   "metadata": {},
   "source": [
    "## Train Test Split Data"
   ]
  },
  {
   "cell_type": "code",
   "execution_count": null,
   "id": "42575995-ea5d-473c-bbf9-63e9b4b68f52",
   "metadata": {},
   "outputs": [],
   "source": [
    "from sklearn.model_selection import train_test_split"
   ]
  },
  {
   "cell_type": "code",
   "execution_count": null,
   "id": "93448f03-f999-412e-aabf-3d6307fa6dab",
   "metadata": {},
   "outputs": [],
   "source": [
    "# split train and test data 70:30\n",
    "x_train, x_test, y_train, y_test = train_test_split(\n",
    "    scaled_df, df['class'], test_size=0.30, random_state=42)"
   ]
  },
  {
   "cell_type": "markdown",
   "id": "c155521c-c8f0-48be-8360-aef41cccd946",
   "metadata": {},
   "source": [
    "## KNN"
   ]
  },
  {
   "cell_type": "code",
   "execution_count": null,
   "id": "ae92561b-fa84-4fa0-9f84-ec5bc42f5e37",
   "metadata": {},
   "outputs": [],
   "source": [
    "from sklearn.neighbors import KNeighborsClassifier"
   ]
  },
  {
   "cell_type": "code",
   "execution_count": null,
   "id": "0a159c3b-7ff5-4ff5-a2af-abc3225b91a0",
   "metadata": {},
   "outputs": [],
   "source": [
    "# train knn with 40 neighbors\n",
    "knn = KNeighborsClassifier(n_neighbors=10)\n",
    "knn.fit(x_train, y_train)\n",
    "prediction = knn.predict(x_test)"
   ]
  },
  {
   "cell_type": "markdown",
   "id": "c31e41d0-49f4-45ed-9ac8-efa5c5fe4e5d",
   "metadata": {},
   "source": [
    "## Evaluation"
   ]
  },
  {
   "cell_type": "code",
   "execution_count": null,
   "id": "fafcdd1e-e90c-4c2c-8d04-335abca3d8b2",
   "metadata": {},
   "outputs": [],
   "source": [
    "from sklearn.metrics import classification_report, confusion_matrix\n",
    "# compare actual result with predictions\n",
    "print(confusion_matrix(y_test, prediction))\n",
    "print(classification_report(y_test, prediction))"
   ]
  },
  {
   "cell_type": "code",
   "execution_count": null,
   "id": "2fdeffa6-fe20-4e24-9cb8-744ea74be7b1",
   "metadata": {},
   "outputs": [],
   "source": [
    "# finding the best neigbors value by looping through 1-40 then train and predict with knn\n",
    "error_rate = []\n",
    "for i in range(1, 45):\n",
    "    knn = KNeighborsClassifier(n_neighbors=i)\n",
    "    knn.fit(x_train, y_train)\n",
    "    predict_i = knn.predict(x_test)\n",
    "    error_rate.append(np.mean(predict_i != y_test))"
   ]
  },
  {
   "cell_type": "code",
   "execution_count": null,
   "id": "de26db7a-e0d4-48af-93ba-a7cacc85ef11",
   "metadata": {},
   "outputs": [],
   "source": [
    "plt.figure(figsize=(10,6))\n",
    "plt.plot(range(1,45), error_rate, color='blue', linestyle='dashed', marker='o')\n",
    "plt.title('Error Rate vs KNN values')\n",
    "plt.xlabel('K Value')\n",
    "plt.ylabel('Error rate')"
   ]
  },
  {
   "cell_type": "code",
   "execution_count": null,
   "id": "ed886982-e825-4bdc-ac93-4d27b0e0fa00",
   "metadata": {},
   "outputs": [],
   "source": [
    "# The error rate for 2 attributes are alot higher than 4 attributes\n",
    "# with 2 attributes going only as low as 0.18, which 4 attributes go to 0.0 \n",
    "# the over all metrics are also a lot lower for Iris-versicolor and Iris-virginica"
   ]
  },
  {
   "cell_type": "markdown",
   "id": "5a841fd2-892c-4318-b54d-3b6bea15b473",
   "metadata": {},
   "source": [
    "# <b>Conclusion:</b>"
   ]
  },
  {
   "cell_type": "raw",
   "id": "3672b9b9-7d0f-42ac-958a-316665806b50",
   "metadata": {},
   "source": [
    "I learn how to clean up the dataset by normalizing it as well as using KNN for predictions, I also learn that it is not nessesarily true that the higher K value you use the better your predictions is."
   ]
  },
  {
   "cell_type": "markdown",
   "id": "78685c4c-5f24-41ed-8f16-da4b02a98909",
   "metadata": {},
   "source": [
    "# <b>References:</b>"
   ]
  },
  {
   "cell_type": "raw",
   "id": "ddf62251-645d-4cfc-9794-b188725e8df9",
   "metadata": {},
   "source": [
    "https://archive.ics.uci.edu/dataset/53/iris "
   ]
  }
 ],
 "metadata": {
  "kernelspec": {
   "display_name": "Python 3 (ipykernel)",
   "language": "python",
   "name": "python3"
  },
  "language_info": {
   "codemirror_mode": {
    "name": "ipython",
    "version": 3
   },
   "file_extension": ".py",
   "mimetype": "text/x-python",
   "name": "python",
   "nbconvert_exporter": "python",
   "pygments_lexer": "ipython3",
   "version": "3.11.6"
  }
 },
 "nbformat": 4,
 "nbformat_minor": 5
}
